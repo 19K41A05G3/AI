{
  "nbformat": 4,
  "nbformat_minor": 0,
  "metadata": {
    "colab": {
      "name": "Assignment1.ipynb",
      "provenance": [],
      "authorship_tag": "ABX9TyNk9BVno+R4f3ACak3ppK/q",
      "include_colab_link": true
    },
    "kernelspec": {
      "name": "python3",
      "display_name": "Python 3"
    },
    "language_info": {
      "name": "python"
    }
  },
  "cells": [
    {
      "cell_type": "markdown",
      "metadata": {
        "id": "view-in-github",
        "colab_type": "text"
      },
      "source": [
        "<a href=\"https://colab.research.google.com/github/19K41A05G3/AI/blob/main/Assignment1.ipynb\" target=\"_parent\"><img src=\"https://colab.research.google.com/assets/colab-badge.svg\" alt=\"Open In Colab\"/></a>"
      ]
    },
    {
      "cell_type": "code",
      "metadata": {
        "colab": {
          "base_uri": "https://localhost:8080/"
        },
        "id": "kyN9OYzoEWft",
        "outputId": "0ee33dfb-a52e-42a4-e27f-49566bf4ec33"
      },
      "source": [
        "from scipy.optimize import linprog\n",
        "obj=[-50,-120]\n",
        "A_ieq=[[7,2],[1,3],[1,1]]\n",
        "b_ieq=[700,120,110]\n",
        "boundary=[(0,float('inf')),(0,float('inf'))]\n",
        "opt = linprog(c=obj, A_ub=A_ieq, b_ub=b_ieq, A_eq=None,b_eq=None, bounds=boundary,method=\"Simplex\")\n",
        "opt.x\n",
        "profit = round(opt.x[0])*50 + round(opt.x[1])*120\n",
        "print('No.of hectares alloacted for wheat:',round(opt.x[0]),'\\nNo.of labors required for wheat crop: ',10*round(opt.x[0]),'\\nNo.of hectares for barley: ',round(opt.x[1]),'\\nNo.of labors required for barley crop: ',30*round(opt.x[1]), '\\nProfit= ',round(profit))"
      ],
      "execution_count": 4,
      "outputs": [
        {
          "output_type": "stream",
          "text": [
            "No.of hectares alloacted for wheat: 98 \n",
            "No.of labors required for wheat crop:  980 \n",
            "No.of hectares for barley:  7 \n",
            "No.of labors required for barley crop:  210 \n",
            "Profit=  5740\n"
          ],
          "name": "stdout"
        }
      ]
    }
  ]
}